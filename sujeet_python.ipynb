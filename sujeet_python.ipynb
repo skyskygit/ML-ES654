{
  "nbformat": 4,
  "nbformat_minor": 0,
  "metadata": {
    "colab": {
      "provenance": [],
      "collapsed_sections": [
        "I8sqsUZIfhqa",
        "ZquyrEhkf_jh",
        "IYMXaclykaSX",
        "E9bN7sY2qFMw",
        "3nG1aCWQsBpw",
        "G9NGQi0VsJqu",
        "CKGOUtf6sOBv",
        "p09sgAw3sSEK",
        "YyczCEIqsUgo",
        "BYp7IPzQsW9V",
        "nN_in4pasY7p"
      ],
      "toc_visible": true
    },
    "kernelspec": {
      "name": "python3",
      "display_name": "Python 3"
    },
    "language_info": {
      "name": "python"
    }
  },
  "cells": [
    {
      "cell_type": "markdown",
      "source": [
        "### qeuestion-1"
      ],
      "metadata": {
        "id": "I8sqsUZIfhqa"
      }
    },
    {
      "cell_type": "code",
      "source": [],
      "metadata": {
        "id": "T5G2JY4yfgeq"
      },
      "execution_count": null,
      "outputs": []
    },
    {
      "cell_type": "markdown",
      "source": [
        "'''\n",
        "number of addition  operation  required to  multiply 2 matric(nXp & pXm) it will take =  nX(p-1)Xm\n",
        "\n",
        "because first row of first matrix multiply with first column of second matrix and to sum these elemnet take (p-1) addition operation\n",
        "where p is the number of the element in  each row of first matrrix . and theses process is  apply to all row and colummn which take n X match\n",
        "operation and each opration take (p-1) addition ,so total = nx(p-1)xm addition operation required ..\n",
        "\n",
        " \n",
        " number of multiplication operation  required to  multiply 2 matric(nXp & pXm) it will take =  nXpXm\n",
        "\n",
        "because first row of first matrix multiply with first column of second matrix and to sum these elemnet take (p) multipliaction operation\n",
        "where p is the number of the element in  each row of first matrrix . and theses process is  apply to all row and colummn which take n X match\n",
        "operation and each opration take (p) multiplication so total = nxpxm multipliaction operation required .\n",
        "\n",
        "'''\n",
        " \n"
      ],
      "metadata": {
        "id": "ZLe-Bs4ef0rh"
      }
    },
    {
      "cell_type": "code",
      "source": [],
      "metadata": {
        "id": "ywwSaBkzfgwB"
      },
      "execution_count": null,
      "outputs": []
    },
    {
      "cell_type": "markdown",
      "source": [
        "###Questin-2"
      ],
      "metadata": {
        "id": "ZquyrEhkf_jh"
      }
    },
    {
      "cell_type": "code",
      "source": [
        "import numpy as np\n",
        "print(\"Without  NUMPY\")\n",
        "def mul(a,b,c):\n",
        "      for i in range (0,len(c)):\n",
        "          for j in range (0, len(c[0])):\n",
        "             for k in range(0,len(b)):\n",
        "                c[i][j] += a[i][k]*b[k][j]\n",
        "      return c\n",
        "a=[[1,1,1],[1,1,1],[1,1,1]]\n",
        "b=[[1,1,1],[1,1,1],[1,1,1]]\n",
        "c=[[0,0,0],[0,0,0],[0,0,0]]          \n",
        "%timeit x=mul(a,b,c)\n",
        "print(x)   \n",
        "\n",
        "print(\"USING NUMPY\") \n",
        "\n",
        "\n",
        "a1=np.array([[1,1,1],[1,1,1],[1,1,1]])\n",
        "b1=np.array([[1,1,1],[1,1,1],[1,1,1]])\n",
        "\n",
        "%timeit y = np.matmul(a1,b1)\n",
        "\n",
        "print(y)\n"
      ],
      "metadata": {
        "colab": {
          "base_uri": "https://localhost:8080/"
        },
        "id": "898gJlhcfnsq",
        "outputId": "9b22d004-f1c1-4863-aebb-b0b4caa1d3c0"
      },
      "execution_count": 16,
      "outputs": [
        {
          "output_type": "stream",
          "name": "stdout",
          "text": [
            "Without  NUMPY\n",
            "10.7 µs ± 337 ns per loop (mean ± std. dev. of 7 runs, 100000 loops each)\n",
            "[[3, 3, 3], [3, 3, 3], [3, 3, 3]]\n",
            "USING NUMPY\n",
            "1.26 µs ± 11.8 ns per loop (mean ± std. dev. of 7 runs, 1000000 loops each)\n",
            "[[3 3 3]\n",
            " [3 3 3]\n",
            " [3 3 3]]\n"
          ]
        }
      ]
    },
    {
      "cell_type": "markdown",
      "source": [
        "### Question-3\n"
      ],
      "metadata": {
        "id": "IYMXaclykaSX"
      }
    },
    {
      "cell_type": "code",
      "source": [
        "import numpy as np   \n",
        "      ## one pas and two pass method  \n",
        "def med(a):\n",
        "    leng=len(a)\n",
        "    leng =(int)(leng/2)\n",
        "    for i in range(leng+1): \n",
        "     for j in range(0,len(a)-i-1):\n",
        "        if a[j]<a[j+1]:\n",
        "            a[j],a[j+1]=a[j+1],a[j] \n",
        "            \n",
        "    if leng%2==0:\n",
        "     return (a[((int)((len(a)+1)/2))-1])   \n",
        "    else :            \n",
        "      return ((a[(int)(len(a)/2)]+a[((int)(len(a)/2))-1])/2) \n",
        "\n",
        "%timeit re=med([1,2,3,4,5])\n",
        "print(re)\n",
        "print(a)\n",
        "print(\"Time complexity =O(n*n)\")\n",
        "'''in this for every pass  it take o(n) so to find n/2 th minimune elments  it will excute for (n/2+1) pass so total order will be o(n*n/2)=O(n2)'''\n",
        "\n",
        "\n"
      ],
      "metadata": {
        "colab": {
          "base_uri": "https://localhost:8080/",
          "height": 122
        },
        "id": "TGCCN3pbkhlE",
        "outputId": "4469c906-719b-402a-9328-dcc911daa2e1"
      },
      "execution_count": 28,
      "outputs": [
        {
          "output_type": "stream",
          "name": "stdout",
          "text": [
            "4.23 µs ± 88.2 ns per loop (mean ± std. dev. of 7 runs, 100000 loops each)\n",
            "3\n",
            "[1 2 3 4 5]\n",
            "Time complexity =O(n*n)\n"
          ]
        },
        {
          "output_type": "execute_result",
          "data": {
            "text/plain": [
              "'in this for every pass  it take o(n) so to find n/2 th minimune elments  it will excute for (n/2+1) pass so total order will be o(n*n/2)=O(n2)'"
            ],
            "application/vnd.google.colaboratory.intrinsic+json": {
              "type": "string"
            }
          },
          "metadata": {},
          "execution_count": 28
        }
      ]
    },
    {
      "cell_type": "code",
      "source": [
        " ## second method method \n",
        "def fun2(a):\n",
        "   leng=len(a)\n",
        "   leng =(int)(leng/2)\n",
        "   a.sort()\n",
        "   if leng%2==0:\n",
        "     return (a[((int)((len(a)+1)/2))-1])   \n",
        "   else :            \n",
        "      return ((a[(int)(len(a)/2)]+a[((int)(len(a)/2))-1])/2) \n",
        "\n",
        "%timeit res2=fun2([1,2,3,4,5])\n",
        "print(res2)\n",
        "print(a)\n",
        "print(\"Time complexity =O(n*logn)\")\n",
        "'''in this we sort array so it will take O(n*logn) because it internal use merge sort and after sorting we simply aplly array index to find median which take constant time\n",
        "so total order =O(n*logn) which is better than first one'''\n",
        " "
      ],
      "metadata": {
        "colab": {
          "base_uri": "https://localhost:8080/",
          "height": 122
        },
        "id": "VhD19Uk9pba9",
        "outputId": "8abb697e-4f68-493f-af63-c2e27d05c382"
      },
      "execution_count": 32,
      "outputs": [
        {
          "output_type": "stream",
          "name": "stdout",
          "text": [
            "655 ns ± 9.79 ns per loop (mean ± std. dev. of 7 runs, 1000000 loops each)\n",
            "3\n",
            "[1 2 3 4 5]\n",
            "Time complexity =O(n*logn)\n"
          ]
        },
        {
          "output_type": "execute_result",
          "data": {
            "text/plain": [
              "'in this we sort array so it will take O(n*logn) because it internal use merge sort and after sorting we simply aplly array index to find median which take constant time\\nso total order =O(n*logn) which is better than first one'"
            ],
            "application/vnd.google.colaboratory.intrinsic+json": {
              "type": "string"
            }
          },
          "metadata": {},
          "execution_count": 32
        }
      ]
    },
    {
      "cell_type": "code",
      "source": [
        "\n",
        "     ## using numpy to find median\n",
        "print(\"useing numpy\")\n",
        "m=np.array([1,2,3,4,5]) \n",
        "%timeit c=np.median(m) \n",
        "print(c)    \n",
        "print(m)   "
      ],
      "metadata": {
        "colab": {
          "base_uri": "https://localhost:8080/"
        },
        "id": "JGu_fkywppUL",
        "outputId": "a42bf72e-0e48-4887-cbd5-33437f1287ca"
      },
      "execution_count": 31,
      "outputs": [
        {
          "output_type": "stream",
          "name": "stdout",
          "text": [
            "useing numpy\n",
            "22.1 µs ± 2.17 µs per loop (mean ± std. dev. of 7 runs, 10000 loops each)\n",
            "3.0\n",
            "[1 2 3 4 5]\n"
          ]
        }
      ]
    },
    {
      "cell_type": "markdown",
      "source": [],
      "metadata": {
        "id": "2q7B8Ci3q9rS"
      }
    },
    {
      "cell_type": "markdown",
      "source": [],
      "metadata": {
        "id": "-bIwinP1rCJg"
      }
    },
    {
      "cell_type": "markdown",
      "source": [
        "### Question-4"
      ],
      "metadata": {
        "id": "E9bN7sY2qFMw"
      }
    },
    {
      "cell_type": "markdown",
      "source": [
        "let u = x^2*y + y^3*sin(x)\n",
        "\n",
        "du/dx = 2*x*y + y^3*cos(x)\n",
        "\n",
        "du/dy = x^2 + 3* y^2*sin(x)"
      ],
      "metadata": {
        "id": "zQo3Vs40HZYH"
      }
    },
    {
      "cell_type": "markdown",
      "source": [],
      "metadata": {
        "id": "tG9esaFXHSti"
      }
    },
    {
      "cell_type": "markdown",
      "source": [],
      "metadata": {
        "id": "iX_WMuwWHPPe"
      }
    },
    {
      "cell_type": "markdown",
      "source": [
        "## Question-5"
      ],
      "metadata": {
        "id": "FPp4yZu6qMd6"
      }
    },
    {
      "cell_type": "code",
      "source": [
        "import jax.numpy as jx\n",
        "import jax\n",
        "import math\n",
        "def grad(x,y):\n",
        "  return (x**2) * y + (y**3) * jx.sin(x)\n",
        "\n",
        "x = jax.grad(grad, argnums=0)(1.0,1.0) # grad wrt x\n",
        "y = jax.grad(grad, argnums=1)(1.0,1.0) # grad wrt y\n",
        "print('grad wrt x at (1,1) ',x)\n",
        "print('grad wrt y at (1,1) ',y)"
      ],
      "metadata": {
        "colab": {
          "base_uri": "https://localhost:8080/"
        },
        "id": "jLbwwUrVrGhY",
        "outputId": "42575401-edc8-4fc0-fdbe-fac91458a96a"
      },
      "execution_count": 79,
      "outputs": [
        {
          "output_type": "stream",
          "name": "stdout",
          "text": [
            "grad wrt x at (1,1)  2.5403023\n",
            "grad wrt y at (1,1)  3.5244129\n"
          ]
        }
      ]
    },
    {
      "cell_type": "markdown",
      "source": [
        "## Question-6"
      ],
      "metadata": {
        "id": "dY2qF1H9r8MK"
      }
    },
    {
      "cell_type": "code",
      "source": [
        "from sympy import*\n",
        "import jax.numpy as jx\n",
        "x , y = symbols('x,y')\n",
        "wrtX = diff((x**2)*y + (y**3)*sin(x),x)\n",
        "\n",
        "wrtY = diff((x**2)*y + (y**3)*sin(x),y)\n",
        "\n",
        "print(\"with respect to x= \",wrtX)\n",
        "print(\"\\nwith respect to y= \",wrtY)\n",
        "x1,y1 = 1.0,1.0\n",
        "xdiff = 2*x1*y1 + y1**3 * math.cos(x1)\n",
        "ydiff = x1**2 + 3 * y1**2 * math.sin(x1)\n",
        "print('\\gradient with respect to x at (1,1)', xdiff)\n",
        "print('gradient with respect to y at (1,1)', ydiff)\n"
      ],
      "metadata": {
        "colab": {
          "base_uri": "https://localhost:8080/"
        },
        "id": "kOTBkx3sr8ML",
        "outputId": "cf564844-fe76-4a80-dc76-a008ed382a15"
      },
      "execution_count": 82,
      "outputs": [
        {
          "output_type": "stream",
          "name": "stdout",
          "text": [
            "with respect to x=  2*x*y + y**3*cos(x)\n",
            "\n",
            "with respect to y=  x**2 + 3*y**2*sin(x)\n",
            "\\gradient with respect to x at (1,1) 2.5403023058681398\n",
            "gradient with respect to y at (1,1) 3.5244129544236893\n"
          ]
        }
      ]
    },
    {
      "cell_type": "markdown",
      "source": [
        "\n",
        "\n",
        "## Question-7"
      ],
      "metadata": {
        "id": "3nG1aCWQsBpw"
      }
    },
    {
      "cell_type": "code",
      "source": [
        "import random \n",
        "student ={'2022' :{'Branch1':{1:{'Rollno':1,'Name':'A','Marks':{'Math':random.randint(70,100),'English':random.randint(70,100)}},\n",
        "                              2:{'Rollno':2,'Name':'B','Marks':{'Math':random.randint(70,100),'English':random.randint(70,100)}}\n",
        "                             },\n",
        "                   'Branch2':{1:{'Rollno':1,'Name':'A','Marks':{'Math':random.randint(70,100),'English':random.randint(70,100)}},\n",
        "                              2:{'Rollno':2,'Name':'B','Marks':{'Math':random.randint(70,100),'English':random.randint(70,100)}}\n",
        "                             },\n",
        "                   }\n",
        "                   ,\n",
        "          '2023' :{'Branch1':{1:{'Rollno':1,'Name':'A','Marks':{'Math':random.randint(70,100),'English':random.randint(70,100)}},\n",
        "                              2:{'Rollno':2,'Name':'B','Marks':{'Math':random.randint(70,100),'English':random.randint(70,100)}}\n",
        "                             },\n",
        "                   'Branch2':{1:{'Rollno':1,'Name':'A','Marks':{'Math':random.randint(70,100),'English':random.randint(70,100)}},\n",
        "                              2:{'Rollno':2,'Name':'B','Marks':{'Math':random.randint(70,100),'English':random.randint(70,100)}}\n",
        "                             },\n",
        "                   },\n",
        "          '2024' :{'Branch1':{1:{'Rollno':1,'Name':'A','Marks':{'Math':random.randint(70,100),'English':random.randint(70,100)}},\n",
        "                              2:{'Rollno':2,'Name':'B','Marks':{'Math':random.randint(70,100),'English':random.randint(70,100)}}\n",
        "                             },\n",
        "                   'Branch2':{1:{'Rollno':1,'Name':'A','Marks':{'Math':random.randint(70,100),'English':random.randint(70,100)}},\n",
        "                              2:{'Rollno':2,'Name':'B','Marks':{'Math':random.randint(70,100),'English':random.randint(70,100)}}\n",
        "                             },\n",
        "                   },\n",
        "          '2025' :{'Branch1':{1:{'Rollno':1,'Name':'A','Marks':{'Math':random.randint(70,100),'English':random.randint(70,100)}},\n",
        "                              2:{'Rollno':2,'Name':'B','Marks':{'Math':random.randint(70,100),'English':random.randint(70,100)}}\n",
        "                             },\n",
        "                   'Branch2':{1:{'Rollno':1,'Name':'A','Marks':{'Math':random.randint(70,100),'English':random.randint(70,100)}},\n",
        "                              2:{'Rollno':2,'Name':'B','Marks':{'Math':random.randint(70,100),'English':random.randint(70,100)}}\n",
        "                             },\n",
        "                   }\n",
        "}\n",
        "for first in student.keys():\n",
        "  print(first)\n",
        "  for second in student[first].keys():\n",
        "    print(second)\n",
        "    for third in student[first][second].keys():\n",
        "      print(student[first][second][third])\n",
        "  print(\"\\n\")\n",
        "\n",
        "\n"
      ],
      "metadata": {
        "colab": {
          "base_uri": "https://localhost:8080/"
        },
        "id": "eWss-WYmsBpx",
        "outputId": "49bcb44f-94d7-41d9-e4d1-7364d5bfd08d"
      },
      "execution_count": 9,
      "outputs": [
        {
          "output_type": "stream",
          "name": "stdout",
          "text": [
            "2022\n",
            "Branch1\n",
            "{'Rollno': 1, 'Name': 'A', 'Marks': {'Math': 85, 'English': 85}}\n",
            "{'Rollno': 2, 'Name': 'B', 'Marks': {'Math': 90, 'English': 74}}\n",
            "Branch2\n",
            "{'Rollno': 1, 'Name': 'A', 'Marks': {'Math': 87, 'English': 95}}\n",
            "{'Rollno': 2, 'Name': 'B', 'Marks': {'Math': 87, 'English': 80}}\n",
            "\n",
            "\n",
            "2023\n",
            "Branch1\n",
            "{'Rollno': 1, 'Name': 'A', 'Marks': {'Math': 72, 'English': 70}}\n",
            "{'Rollno': 2, 'Name': 'B', 'Marks': {'Math': 85, 'English': 78}}\n",
            "Branch2\n",
            "{'Rollno': 1, 'Name': 'A', 'Marks': {'Math': 74, 'English': 77}}\n",
            "{'Rollno': 2, 'Name': 'B', 'Marks': {'Math': 95, 'English': 92}}\n",
            "\n",
            "\n",
            "2024\n",
            "Branch1\n",
            "{'Rollno': 1, 'Name': 'A', 'Marks': {'Math': 94, 'English': 78}}\n",
            "{'Rollno': 2, 'Name': 'B', 'Marks': {'Math': 84, 'English': 74}}\n",
            "Branch2\n",
            "{'Rollno': 1, 'Name': 'A', 'Marks': {'Math': 90, 'English': 96}}\n",
            "{'Rollno': 2, 'Name': 'B', 'Marks': {'Math': 73, 'English': 100}}\n",
            "\n",
            "\n",
            "2025\n",
            "Branch1\n",
            "{'Rollno': 1, 'Name': 'A', 'Marks': {'Math': 83, 'English': 77}}\n",
            "{'Rollno': 2, 'Name': 'B', 'Marks': {'Math': 72, 'English': 86}}\n",
            "Branch2\n",
            "{'Rollno': 1, 'Name': 'A', 'Marks': {'Math': 89, 'English': 81}}\n",
            "{'Rollno': 2, 'Name': 'B', 'Marks': {'Math': 79, 'English': 95}}\n",
            "\n",
            "\n"
          ]
        }
      ]
    },
    {
      "cell_type": "markdown",
      "source": [
        "## Question-8"
      ],
      "metadata": {
        "id": "G9NGQi0VsJqu"
      }
    },
    {
      "cell_type": "code",
      "source": [
        "class year:\n",
        "   def __init__(self, year):\n",
        "      self.year=year\n",
        "      self.listOfbranch =list()\n",
        "   def branch(self,branch):\n",
        "     self.listOfbranch.append(branch)\n",
        "\n",
        "class branch:\n",
        "   def __init__(self, branch):\n",
        "      self.branch=branch\n",
        "      self.listOfstudent =list()\n",
        "   def student(self,student):\n",
        "     self.listOfstudent.append(student)\n",
        "\n",
        "\n",
        "class student:\n",
        "   def __init__(self, name,rollno):\n",
        "      self.name=name\n",
        "      self.rollno=rollno\n",
        "      self.marks ={'Math':random.randint(70,100),'English':random.randint(70,100)}\n"
      ],
      "metadata": {
        "id": "GJrZbu7MsJqu"
      },
      "execution_count": 54,
      "outputs": []
    },
    {
      "cell_type": "code",
      "source": [
        "res=[]\n",
        "for i in range(2022,2024):\n",
        "  y=year(i)      \n",
        "  for j in range(1,3):\n",
        "      br =branch(str(j))\n",
        "      for k in range(1,3):\n",
        "        st =student(chr(64 + k),k)\n",
        "        br.student(st)\n",
        "      y.branch(br)\n",
        "  res.append(y)\n"
      ],
      "metadata": {
        "id": "ghwPBAasuCzJ"
      },
      "execution_count": 64,
      "outputs": []
    },
    {
      "cell_type": "code",
      "source": [
        "for i in res:\n",
        "   print(i.year,':')\n",
        "   for j in i.listOfbranch:\n",
        "     print('Branch',j.branch)\n",
        "     for k in j.listOfstudent:\n",
        "      print('Roll: ',k.rollno,' Name :', k.name,' Marks:', k.marks) \n",
        "   print(\"\\n\")  "
      ],
      "metadata": {
        "colab": {
          "base_uri": "https://localhost:8080/"
        },
        "id": "F_UKy5jztuG2",
        "outputId": "73841696-bd9f-47d4-8c9e-1c437e3c8dbd"
      },
      "execution_count": 65,
      "outputs": [
        {
          "output_type": "stream",
          "name": "stdout",
          "text": [
            "2022 :\n",
            "Branch 1\n",
            "Roll:  1  Name : A  Marks: {'Math': 76, 'English': 84}\n",
            "Roll:  2  Name : B  Marks: {'Math': 97, 'English': 100}\n",
            "Branch 2\n",
            "Roll:  1  Name : A  Marks: {'Math': 73, 'English': 85}\n",
            "Roll:  2  Name : B  Marks: {'Math': 90, 'English': 81}\n",
            "\n",
            "\n",
            "2023 :\n",
            "Branch 1\n",
            "Roll:  1  Name : A  Marks: {'Math': 82, 'English': 94}\n",
            "Roll:  2  Name : B  Marks: {'Math': 99, 'English': 90}\n",
            "Branch 2\n",
            "Roll:  1  Name : A  Marks: {'Math': 89, 'English': 100}\n",
            "Roll:  2  Name : B  Marks: {'Math': 84, 'English': 86}\n",
            "\n",
            "\n"
          ]
        }
      ]
    },
    {
      "cell_type": "markdown",
      "source": [
        "\n",
        "\n",
        "## Question-9"
      ],
      "metadata": {
        "id": "CKGOUtf6sOBv"
      }
    },
    {
      "cell_type": "code",
      "source": [
        "import matplotlib.pyplot as pt\n",
        "import numpy as np\n",
        "x=np.arange(0.5,100,0.5)\n",
        "y=[i for i in x]\n",
        "pt.plot(x,y)\n",
        "pt.title(\"Y=X\")\n",
        "pt.xlabel(\"X\")\n",
        "pt.ylabel(\"Y\")\n",
        "pt.show()\n"
      ],
      "metadata": {
        "colab": {
          "base_uri": "https://localhost:8080/",
          "height": 295
        },
        "id": "z7KFjkR3sOBw",
        "outputId": "3ae53a60-8ec3-4a27-dc24-13bfae688590"
      },
      "execution_count": 74,
      "outputs": [
        {
          "output_type": "display_data",
          "data": {
            "text/plain": [
              "<Figure size 432x288 with 1 Axes>"
            ],
            "image/png": "[encoded data removed]"
          },
          "metadata": {
            "needs_background": "light"
          }
        }
      ]
    },
    {
      "cell_type": "code",
      "source": [
        "import matplotlib.pyplot as pt\n",
        "import numpy as np\n",
        "x=np.arange(0.5,100,0.5)\n",
        "y=[i*i for i in x]\n",
        "pt.plot(x,y)\n",
        "pt.title(\"Y=X^2\")\n",
        "pt.xlabel(\"X\")\n",
        "pt.ylabel(\"Y\")\n",
        "pt.show()\n"
      ],
      "metadata": {
        "colab": {
          "base_uri": "https://localhost:8080/",
          "height": 295
        },
        "id": "cTWO2WlJ0ABH",
        "outputId": "503e4f5c-5f02-4d02-b577-b2709324feb5"
      },
      "execution_count": 75,
      "outputs": [
        {
          "output_type": "display_data",
          "data": {
            "text/plain": [
              "<Figure size 432x288 with 1 Axes>"
            ],
            "image/png": "[encoded data removed]"
          },
          "metadata": {
            "needs_background": "light"
          }
        }
      ]
    },
    {
      "cell_type": "code",
      "source": [
        "import matplotlib.pyplot as pt\n",
        "import numpy as np\n",
        "x=np.arange(0.5,100,0.5)\n",
        "y=[(i*i*i)/100 for i in x]\n",
        "pt.plot(x,y)\n",
        "pt.title(\"Y=X^3/100\")\n",
        "pt.xlabel(\"X\")\n",
        "pt.ylabel(\"Y\")\n",
        "pt.show()\n"
      ],
      "metadata": {
        "colab": {
          "base_uri": "https://localhost:8080/",
          "height": 295
        },
        "id": "DmS-sYFS1D1W",
        "outputId": "1456f8ff-7de1-401e-b2e4-9a78a26586e4"
      },
      "execution_count": 76,
      "outputs": [
        {
          "output_type": "display_data",
          "data": {
            "text/plain": [
              "<Figure size 432x288 with 1 Axes>"
            ],
            "image/png": "[encoded data removed]"
          },
          "metadata": {
            "needs_background": "light"
          }
        }
      ]
    },
    {
      "cell_type": "code",
      "source": [
        "import matplotlib.pyplot as pt\n",
        "import numpy as np\n",
        "x=np.arange(0.5,100,0.5)\n",
        "m=[i*(np.pi/180) for i in x]\n",
        "pt.plot(m,np.sin(m))\n",
        "pt.title(\"Y=sin(x)\")\n",
        "pt.xlabel(\"X in angle\")\n",
        "pt.ylabel(\"Y\")\n",
        "pt.show()\n"
      ],
      "metadata": {
        "colab": {
          "base_uri": "https://localhost:8080/",
          "height": 295
        },
        "id": "U8xuRDPa1RU_",
        "outputId": "4ba7c0a3-b98d-4a3c-b2ec-b46751e71249"
      },
      "execution_count": 87,
      "outputs": [
        {
          "output_type": "display_data",
          "data": {
            "text/plain": [
              "<Figure size 432x288 with 1 Axes>"
            ],
            "image/png": "[encoded data removed]"
          },
          "metadata": {
            "needs_background": "light"
          }
        }
      ]
    },
    {
      "cell_type": "code",
      "source": [
        "import matplotlib.pyplot as pt\n",
        "import numpy as np\n",
        "x=np.arange(0.5,100,0.5)\n",
        "m=[i*(np.pi/180) for i in x]\n",
        "pt.plot(m,(np.sin(m))/100)\n",
        "pt.title(\"Y=sin(x)/100\")\n",
        "pt.xlabel(\"X in angle\")\n",
        "pt.ylabel(\"Y\")\n",
        "pt.show()\n"
      ],
      "metadata": {
        "colab": {
          "base_uri": "https://localhost:8080/",
          "height": 295
        },
        "id": "HCNKQ-gc28wA",
        "outputId": "0df27bdf-6588-4506-bf49-840bfdc8dd85"
      },
      "execution_count": 89,
      "outputs": [
        {
          "output_type": "display_data",
          "data": {
            "text/plain": [
              "<Figure size 432x288 with 1 Axes>"
            ],
            "image/png": "[encoded data removed]"
          },
          "metadata": {
            "needs_background": "light"
          }
        }
      ]
    },
    {
      "cell_type": "code",
      "source": [
        "import matplotlib.pyplot as pt\n",
        "import numpy as np\n",
        "x=np.arange(0.5,100,0.5)\n",
        "pt.plot(x,np.log10(x))\n",
        "pt.title(\"Y=Log(x)\")\n",
        "pt.xlabel(\"X \")\n",
        "pt.ylabel(\"Y\")\n",
        "pt.show()\n"
      ],
      "metadata": {
        "colab": {
          "base_uri": "https://localhost:8080/",
          "height": 295
        },
        "id": "aXAHs9dp383c",
        "outputId": "f84fd19f-470f-4ad2-a6bd-12f781719911"
      },
      "execution_count": 92,
      "outputs": [
        {
          "output_type": "display_data",
          "data": {
            "text/plain": [
              "<Figure size 432x288 with 1 Axes>"
            ],
            "image/png": "[encoded data removed]"
          },
          "metadata": {
            "needs_background": "light"
          }
        }
      ]
    },
    {
      "cell_type": "code",
      "source": [
        "import matplotlib.pyplot as pt\n",
        "import numpy as np\n",
        "x=np.arange(0.5,100,0.5)\n",
        "pt.plot(x,np.exp(x))\n",
        "pt.title(\"Y=e^(x)\")\n",
        "pt.xlabel(\"X \")\n",
        "pt.ylabel(\"Y\")\n",
        "pt.show()\n"
      ],
      "metadata": {
        "colab": {
          "base_uri": "https://localhost:8080/",
          "height": 295
        },
        "id": "-i3Hj5_Y4RIC",
        "outputId": "54b5b924-fba6-4872-e0b7-3145a77f1669"
      },
      "execution_count": 93,
      "outputs": [
        {
          "output_type": "display_data",
          "data": {
            "text/plain": [
              "<Figure size 432x288 with 1 Axes>"
            ],
            "image/png": "[encoded data removed]"
          },
          "metadata": {
            "needs_background": "light"
          }
        }
      ]
    },
    {
      "cell_type": "markdown",
      "source": [
        "## Question-10"
      ],
      "metadata": {
        "id": "p09sgAw3sSEK"
      }
    },
    {
      "cell_type": "code",
      "source": [
        "import numpy as np\n",
        "import pandas as pd\n",
        "\n",
        "print(\"NUMPY\")\n",
        "arr = np.linspace(1,2,100)\n",
        "a=arr.reshape(20,5)\n",
        "print(\"\\n\",a)\n",
        "\n",
        "\n",
        "\n",
        "print(\"\\nPANDAS\")\n",
        "x = pd.DataFrame({\"a\":[1,0,6],\"b\":[2,0,8],\"c\":[1,0,3],\"d\":[12,22,3],\"e\":[1,0,4]})\n",
        "print(\"\\n\",x)\n",
        "x.iloc[:,[x.std(axis=0).argmax()]]\n",
        "print(\"\\n min mean row\\n \",x[x.mean(axis=1).argmin():x.mean(axis=1).argmin()+1])\n",
        "print(\"\\n max std column \\n \",x.iloc[:,[x.std(axis=0).argmax()]])\n",
        "\n",
        "\n",
        "\n",
        "\n"
      ],
      "metadata": {
        "colab": {
          "base_uri": "https://localhost:8080/"
        },
        "id": "KzDooYcUsSEK",
        "outputId": "6bbbb1cc-a995-4641-c330-e12015bc800a"
      },
      "execution_count": 50,
      "outputs": [
        {
          "output_type": "stream",
          "name": "stdout",
          "text": [
            "NUMPY\n",
            "\n",
            " [[1.         1.01010101 1.02020202 1.03030303 1.04040404]\n",
            " [1.05050505 1.06060606 1.07070707 1.08080808 1.09090909]\n",
            " [1.1010101  1.11111111 1.12121212 1.13131313 1.14141414]\n",
            " [1.15151515 1.16161616 1.17171717 1.18181818 1.19191919]\n",
            " [1.2020202  1.21212121 1.22222222 1.23232323 1.24242424]\n",
            " [1.25252525 1.26262626 1.27272727 1.28282828 1.29292929]\n",
            " [1.3030303  1.31313131 1.32323232 1.33333333 1.34343434]\n",
            " [1.35353535 1.36363636 1.37373737 1.38383838 1.39393939]\n",
            " [1.4040404  1.41414141 1.42424242 1.43434343 1.44444444]\n",
            " [1.45454545 1.46464646 1.47474747 1.48484848 1.49494949]\n",
            " [1.50505051 1.51515152 1.52525253 1.53535354 1.54545455]\n",
            " [1.55555556 1.56565657 1.57575758 1.58585859 1.5959596 ]\n",
            " [1.60606061 1.61616162 1.62626263 1.63636364 1.64646465]\n",
            " [1.65656566 1.66666667 1.67676768 1.68686869 1.6969697 ]\n",
            " [1.70707071 1.71717172 1.72727273 1.73737374 1.74747475]\n",
            " [1.75757576 1.76767677 1.77777778 1.78787879 1.7979798 ]\n",
            " [1.80808081 1.81818182 1.82828283 1.83838384 1.84848485]\n",
            " [1.85858586 1.86868687 1.87878788 1.88888889 1.8989899 ]\n",
            " [1.90909091 1.91919192 1.92929293 1.93939394 1.94949495]\n",
            " [1.95959596 1.96969697 1.97979798 1.98989899 2.        ]]\n",
            "\n",
            "PANDAS\n",
            "\n",
            "    a  b  c   d  e\n",
            "0  1  2  1  12  1\n",
            "1  0  0  0  22  0\n",
            "2  6  8  3   3  4\n",
            "\n",
            " min mean row\n",
            "     a  b  c   d  e\n",
            "0  1  2  1  12  1\n",
            "\n",
            " max std column \n",
            "      d\n",
            "0  12\n",
            "1  22\n",
            "2   3\n"
          ]
        }
      ]
    },
    {
      "cell_type": "code",
      "source": [],
      "metadata": {
        "id": "AfUvpsK7z7Ry"
      },
      "execution_count": null,
      "outputs": []
    },
    {
      "cell_type": "markdown",
      "source": [
        "## Question-11"
      ],
      "metadata": {
        "id": "YyczCEIqsUgo"
      }
    },
    {
      "cell_type": "code",
      "source": [
        "import numpy as np\n",
        "import pandas as pd\n",
        "x = pd.DataFrame({\"a\":[1,0,6],\"b\":[2,0,8],\"c\":[1,0,3],\"d\":[12,22,3],\"e\":[1,0,4]})\n",
        "print(x)\n",
        "sum=0\n",
        "\n",
        "x['f']=x.sum(axis='columns')\n",
        "x['g']=sum\n",
        "x['g']=x['f'].apply(lambda y : 'GT' if y >=8 else 'LT')\n",
        "s1 =x['f'].loc[x['g'] =='GT']\n",
        "s2 =x['f'].loc[x['g'] =='LT']\n",
        "print(\"\\n new table\")\n",
        "print(x)\n",
        "print(\"\\n greater than(GT) standerd =\",s1.std())\n",
        "print(\"less than(LT) standerd =\",s2.std())\n",
        "\n",
        "\n",
        "\n",
        "\n"
      ],
      "metadata": {
        "colab": {
          "base_uri": "https://localhost:8080/"
        },
        "id": "vS2Ca0IXsUgo",
        "outputId": "fa5fcbf9-a771-48cb-a38d-86a93d1854ba"
      },
      "execution_count": 43,
      "outputs": [
        {
          "output_type": "stream",
          "name": "stdout",
          "text": [
            "   a  b  c   d  e\n",
            "0  1  2  1  12  1\n",
            "1  0  0  0  22  0\n",
            "2  6  8  3   3  4\n",
            "\n",
            " new table\n",
            "   a  b  c   d  e   f   g\n",
            "0  1  2  1  12  1  17  GT\n",
            "1  0  0  0  22  0  22  GT\n",
            "2  6  8  3   3  4  24  GT\n",
            "\n",
            " greater than(GT) standerd = 3.605551275463989\n",
            "less than(LT) standerd = nan\n"
          ]
        }
      ]
    },
    {
      "cell_type": "markdown",
      "source": [
        "## Question-12"
      ],
      "metadata": {
        "id": "BYp7IPzQsW9V"
      }
    },
    {
      "cell_type": "code",
      "source": [
        "import numpy as np\n",
        "a1 = np.array([[1,2,4],[2,3,45]])\n",
        "a2 = np.array([[1,2,5]])\n",
        "print(a1+a2)\n",
        "\n",
        "'''\n",
        "for numpy  broadcasting  use following rule\n",
        "\n",
        "1. dimention of both array should be same \n",
        "2. match from righ to left and match (r1,c1) and (r2,c2) and compare c1 amd c2 then any one of them should be 1 and if c1 !=c2 and r2 !=r1\n",
        "then atleast one of them should be 1 .\n",
        "\n",
        "if above both case are followed then we can add both array otherwise not  \n",
        "'''\n",
        "\n"
      ],
      "metadata": {
        "colab": {
          "base_uri": "https://localhost:8080/",
          "height": 105
        },
        "id": "XgMYWsD8sW9W",
        "outputId": "57d265fa-df90-4602-fb9d-3607ef37fea3"
      },
      "execution_count": 37,
      "outputs": [
        {
          "output_type": "stream",
          "name": "stdout",
          "text": [
            "[[ 2  4  9]\n",
            " [ 3  5 50]]\n"
          ]
        },
        {
          "output_type": "execute_result",
          "data": {
            "text/plain": [
              "'\\nfor numpy  broadcasting  use following rule\\n\\n1. dimention of both array should be same \\n2. match from righ to left and match (r1,c1) and (r2,c2) and compare c1 amd c2 then any one of them should be 1 and if c1 !=c2 and r2 !=r1\\nthen atleast one of them should be 1 .\\n\\nif above both case are followed then we can add both array otherwise not  \\n'"
            ],
            "application/vnd.google.colaboratory.intrinsic+json": {
              "type": "string"
            }
          },
          "metadata": {},
          "execution_count": 37
        }
      ]
    },
    {
      "cell_type": "markdown",
      "source": [
        "## Question-13"
      ],
      "metadata": {
        "id": "nN_in4pasY7p"
      }
    },
    {
      "cell_type": "code",
      "source": [
        "import numpy as np\n",
        "print(\"Without NUMPY\") \n",
        "min=99999\n",
        "index=0\n",
        "ans=0\n",
        "def x(a):\n",
        "     global min\n",
        "     global index\n",
        "     global ans\n",
        "     for i in a:\n",
        "        if i<min:\n",
        "            ans=index\n",
        "            min=i\n",
        "        index=index+1\n",
        "    \n",
        "        \n",
        "     return ans\n",
        "\n",
        "arr= np.array([[23,2,3,4,1],[2,3,4,5,6]])\n",
        "ar=arr.ravel()\n",
        "print(x(ar))  \n",
        "\n",
        "  ## numpy ##  \n",
        "print(\"using NUMPY\")  \n",
        "new = np.array([[23,2,3,4,1],[2,3,4,5,6]])\n",
        "print(new.argmin())\n",
        "\n"
      ],
      "metadata": {
        "colab": {
          "base_uri": "https://localhost:8080/"
        },
        "id": "NJb43noBsY7q",
        "outputId": "0a734112-d2cc-4395-d75e-58f3c91cfe7a"
      },
      "execution_count": 36,
      "outputs": [
        {
          "output_type": "stream",
          "name": "stdout",
          "text": [
            "Without NUMPY\n",
            "4\n",
            "using NUMPY\n",
            "4\n"
          ]
        }
      ]
    }
  ]
}